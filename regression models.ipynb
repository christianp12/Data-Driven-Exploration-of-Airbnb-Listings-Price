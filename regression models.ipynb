{
 "cells": [
  {
   "cell_type": "code",
   "execution_count": 46,
   "metadata": {},
   "outputs": [],
   "source": [
    "import pandas as pd\n",
    "\n",
    "# Set display options to show more rows and columns\n",
    "pd.set_option('display.max_columns', None) # Show all columns\n",
    "\n",
    "listings = pd.read_csv('final_listings.csv')\n",
    "listings_without_amenities = pd.read_csv('final_listings_without_amenities.csv')"
   ]
  },
  {
   "cell_type": "code",
   "execution_count": 47,
   "metadata": {},
   "outputs": [],
   "source": [
    "import numpy as np\n",
    "from sklearn.model_selection import KFold\n",
    "from sklearn.metrics import mean_absolute_error, mean_squared_error, r2_score\n",
    "\n",
    "\n",
    "# Separate features and target\n",
    "X = listings.drop(columns=[\"price\"])\n",
    "X_without_amenities = listings_without_amenities.drop(columns=[\"price\"])\n",
    "\n",
    "y = listings[\"price\"]\n",
    "\n",
    "\n",
    "# Set up 10-fold cross-validation\n",
    "kf = KFold(n_splits=10, shuffle=True, random_state=42)\n",
    "\n",
    "\n",
    "def perform_cross_validation(X, y, model, kf):\n",
    "    mse_scores = []\n",
    "    mae_scores = []\n",
    "    rmse_scores = []\n",
    "    r2_scores = []\n",
    "    \n",
    "    for train_index, test_index in kf.split(X):\n",
    "        X_train, X_test = X.iloc[train_index], X.iloc[test_index]\n",
    "        y_train, y_test = y.iloc[train_index], y.iloc[test_index]\n",
    "\n",
    "        # Ensure X_train and X_test are 2D arrays\n",
    "        X_train = X_train.values.reshape(-1, 1) if X_train.ndim == 1 else X_train.values\n",
    "        X_test = X_test.values.reshape(-1, 1) if X_test.ndim == 1 else X_test.values\n",
    "\n",
    "        # Train the model\n",
    "        model.fit(X_train, y_train)\n",
    "        \n",
    "        # Make predictions\n",
    "        y_pred = model.predict(X_test)\n",
    "        \n",
    "        # Calculate evaluation metrics\n",
    "        mse = mean_squared_error(y_test, y_pred)\n",
    "        mae = mean_absolute_error(y_test, y_pred)\n",
    "        rmse = np.sqrt(mse)\n",
    "        r2 = r2_score(y_test, y_pred)\n",
    "        \n",
    "        # Store metrics in lists\n",
    "        mse_scores.append(mse)\n",
    "        mae_scores.append(mae)\n",
    "        rmse_scores.append(rmse)\n",
    "        r2_scores.append(r2)\n",
    "    \n",
    "    # Return the average metrics\n",
    "    return np.mean(mse_scores), np.mean(mae_scores), np.mean(rmse_scores), np.mean(r2_scores)"
   ]
  },
  {
   "cell_type": "markdown",
   "metadata": {},
   "source": [
    "<h3>Linear Regression</h3>"
   ]
  },
  {
   "cell_type": "code",
   "execution_count": null,
   "metadata": {},
   "outputs": [],
   "source": [
    "from sklearn.linear_model import LinearRegression\n",
    "\n",
    "# Define the Linear Regression model\n",
    "lin_reg = LinearRegression()\n",
    "\n",
    "# Perform cross-validation on X with amenities\n",
    "mse, mae, rmse, r2 = perform_cross_validation(X, y, lin_reg, kf)\n",
    "print(\"With amenities:\")\n",
    "print(\"Average MSE:\", mse)\n",
    "print(\"Average MAE:\", mae)\n",
    "print(\"Average RMSE:\", rmse)\n",
    "print(\"Average R²:\", r2)\n",
    "\n",
    "# Perform cross-validation on X without amenities\n",
    "mse, mae, rmse, r2 = perform_cross_validation(X_without_amenities, y, lin_reg, kf)\n",
    "print(\"Without amenities:\")\n",
    "print(\"Average MSE:\", mse)\n",
    "print(\"Average MAE:\", mae)\n",
    "print(\"Average RMSE:\", rmse)\n",
    "print(\"Average R²:\", r2)"
   ]
  },
  {
   "cell_type": "code",
   "execution_count": null,
   "metadata": {},
   "outputs": [],
   "source": [
    "from sklearn.linear_model import Lasso\n",
    "\n",
    "# Define the Linear Regression model\n",
    "lasso_model = Lasso()\n",
    "\n",
    "# Perform cross-validation on X with amenities\n",
    "mse, mae, rmse, r2 = perform_cross_validation(X, y, lasso_model, kf)\n",
    "print(\"With amenities:\")\n",
    "print(\"Average MSE:\", mse)\n",
    "print(\"Average MAE:\", mae)\n",
    "print(\"Average RMSE:\", rmse)\n",
    "print(\"Average R²:\", r2)\n",
    "\n",
    "# Perform cross-validation on X without amenities\n",
    "mse, mae, rmse, r2 = perform_cross_validation(X_without_amenities, y, lasso_model, kf)\n",
    "print(\"Without amenities:\")\n",
    "print(\"Average MSE:\", mse)\n",
    "print(\"Average MAE:\", mae)\n",
    "print(\"Average RMSE:\", rmse)\n",
    "print(\"Average R²:\", r2)"
   ]
  },
  {
   "cell_type": "code",
   "execution_count": null,
   "metadata": {},
   "outputs": [],
   "source": [
    "from sklearn.linear_model import Ridge\n",
    "\n",
    "ridge_model = Ridge(alpha=0.1)\n",
    "\n",
    "# Perform cross-validation on X with amenities\n",
    "mse, mae, rmse, r2 = perform_cross_validation(X, y, ridge_model, kf)\n",
    "print(\"With amenities:\")\n",
    "print(\"Average MSE:\", mse)\n",
    "print(\"Average MAE:\", mae)\n",
    "print(\"Average RMSE:\", rmse)\n",
    "print(\"Average R²:\", r2)\n",
    "\n",
    "# Perform cross-validation on X without amenities\n",
    "mse, mae, rmse, r2 = perform_cross_validation(X_without_amenities, y, ridge_model, kf)\n",
    "print(\"Without amenities:\")\n",
    "print(\"Average MSE:\", mse)\n",
    "print(\"Average MAE:\", mae)\n",
    "print(\"Average RMSE:\", rmse)\n",
    "print(\"Average R²:\", r2)"
   ]
  },
  {
   "cell_type": "markdown",
   "metadata": {},
   "source": [
    "<h3>K-Nearest Neighbors</h3>"
   ]
  },
  {
   "cell_type": "code",
   "execution_count": null,
   "metadata": {},
   "outputs": [],
   "source": [
    "from sklearn.neighbors import KNeighborsRegressor\n",
    "\n",
    "# Define the k-NN regressor model\n",
    "knn = KNeighborsRegressor()\n",
    "\n",
    "# Perform cross-validation on X with amenities\n",
    "mse, mae, rmse, r2 = perform_cross_validation(X, y, knn, kf)\n",
    "print(\"With amenities:\")\n",
    "print(\"Average MSE:\", mse)\n",
    "print(\"Average MAE:\", mae)\n",
    "print(\"Average RMSE:\", rmse)\n",
    "print(\"Average R²:\", r2)\n",
    "\n",
    "# Perform cross-validation on X without amenities\n",
    "mse, mae, rmse, r2 = perform_cross_validation(X_without_amenities, y, knn, kf)\n",
    "print(\"Without amenities:\")\n",
    "print(\"Average MSE:\", mse)\n",
    "print(\"Average MAE:\", mae)\n",
    "print(\"Average RMSE:\", rmse)\n",
    "print(\"Average R²:\", r2)"
   ]
  },
  {
   "cell_type": "markdown",
   "metadata": {},
   "source": [
    "<h3>Support Vector Regression</h3>"
   ]
  },
  {
   "cell_type": "code",
   "execution_count": null,
   "metadata": {},
   "outputs": [],
   "source": [
    "from sklearn.svm import SVR\n",
    "\n",
    "# Define the SVR model (using RBF kernel by default)\n",
    "svr_model = SVR()\n",
    "\n",
    "# Perform cross-validation on X with amenities\n",
    "mse, mae, rmse, r2 = perform_cross_validation(X, y, svr_model, kf)\n",
    "print(\"With amenities:\")\n",
    "print(\"Average MSE:\", mse)\n",
    "print(\"Average MAE:\", mae)\n",
    "print(\"Average RMSE:\", rmse)\n",
    "print(\"Average R²:\", r2)\n",
    "\n",
    "# Perform cross-validation on X without amenities\n",
    "mse, mae, rmse, r2 = perform_cross_validation(X_without_amenities, y, svr_model, kf)\n",
    "print(\"Without amenities:\")\n",
    "print(\"Average MSE:\", mse)\n",
    "print(\"Average MAE:\", mae)\n",
    "print(\"Average RMSE:\", rmse)\n",
    "print(\"Average R²:\", r2)"
   ]
  },
  {
   "cell_type": "markdown",
   "metadata": {},
   "source": [
    "<h3>Decision Tree Regression</h3>"
   ]
  },
  {
   "cell_type": "code",
   "execution_count": null,
   "metadata": {},
   "outputs": [],
   "source": [
    "from sklearn.tree import DecisionTreeRegressor\n",
    "\n",
    "# Define the Decision Tree Regressor model\n",
    "tree_model = DecisionTreeRegressor(random_state=42)\n",
    "\n",
    "# Perform cross-validation on X with amenities\n",
    "mse, mae, rmse, r2 = perform_cross_validation(X, y, tree_model, kf)\n",
    "print(\"With amenities:\")\n",
    "print(\"Average MSE:\", mse)\n",
    "print(\"Average MAE:\", mae)\n",
    "print(\"Average RMSE:\", rmse)\n",
    "print(\"Average R²:\", r2)\n",
    "\n",
    "# Perform cross-validation on X without amenities\n",
    "mse, mae, rmse, r2 = perform_cross_validation(X_without_amenities, y, tree_model, kf)\n",
    "print(\"Without amenities:\")\n",
    "print(\"Average MSE:\", mse)\n",
    "print(\"Average MAE:\", mae)\n",
    "print(\"Average RMSE:\", rmse)\n",
    "print(\"Average R²:\", r2)"
   ]
  },
  {
   "cell_type": "markdown",
   "metadata": {},
   "source": [
    "<h3>Random Forest</h3>"
   ]
  },
  {
   "cell_type": "code",
   "execution_count": null,
   "metadata": {},
   "outputs": [],
   "source": [
    "from sklearn.ensemble import RandomForestRegressor\n",
    "\n",
    "random_forest_model = RandomForestRegressor()\n",
    "\n",
    "# Perform cross-validation on X with amenities\n",
    "mse, mae, rmse, r2 = perform_cross_validation(X, y, random_forest_model, kf)\n",
    "print(\"With amenities:\")\n",
    "print(\"Average MSE:\", mse)\n",
    "print(\"Average MAE:\", mae)\n",
    "print(\"Average RMSE:\", rmse)\n",
    "print(\"Average R²:\", r2)\n",
    "\n",
    "# Perform cross-validation on X without amenities\n",
    "mse, mae, rmse, r2 = perform_cross_validation(X_without_amenities, y, random_forest_model, kf)\n",
    "print(\"Without amenities:\")\n",
    "print(\"Average MSE:\", mse)\n",
    "print(\"Average MAE:\", mae)\n",
    "print(\"Average RMSE:\", rmse)\n",
    "print(\"Average R²:\", r2)"
   ]
  },
  {
   "cell_type": "markdown",
   "metadata": {},
   "source": [
    "<h3>Sentiment only</h3>"
   ]
  },
  {
   "cell_type": "code",
   "execution_count": 48,
   "metadata": {},
   "outputs": [
    {
     "data": {
      "text/plain": [
       "0        0.161335\n",
       "1       -1.162224\n",
       "2       -0.318872\n",
       "3        0.253010\n",
       "4       -0.337820\n",
       "           ...   \n",
       "18920   -1.324777\n",
       "18921   -1.593892\n",
       "18922   -1.594129\n",
       "18923   -1.171138\n",
       "18924   -1.231639\n",
       "Name: sentiment, Length: 18925, dtype: float64"
      ]
     },
     "execution_count": 48,
     "metadata": {},
     "output_type": "execute_result"
    }
   ],
   "source": [
    "sentiment = listings['sentiment']\n",
    "\n",
    "sentiment"
   ]
  },
  {
   "cell_type": "code",
   "execution_count": 49,
   "metadata": {},
   "outputs": [
    {
     "name": "stdout",
     "output_type": "stream",
     "text": [
      "Linear Regression:\n",
      "Average MSE: 7743460828407.654\n",
      "Average MAE: 32963.98953672395\n",
      "Average RMSE: 1071717.7779387769\n",
      "Average R²: -22642713.19998171\n",
      "KNN:\n",
      "Average MSE: 81537387997.47916\n",
      "Average MAE: 12873.860657537463\n",
      "Average RMSE: 273398.04763589014\n",
      "Average R²: -7736186722.226771\n",
      "Decision Tree:\n",
      "Average MSE: 125976224900.007\n",
      "Average MAE: 11839.220767547127\n",
      "Average RMSE: 328191.5372687145\n",
      "Average R²: -37589421308.28575\n"
     ]
    }
   ],
   "source": [
    "from sklearn.linear_model import LinearRegression\n",
    "from sklearn.neighbors import KNeighborsRegressor\n",
    "from sklearn.tree import DecisionTreeRegressor\n",
    "from sklearn.model_selection import KFold\n",
    "from sklearn.metrics import mean_absolute_error, mean_squared_error, r2_score\n",
    "\n",
    "# Set up 10-fold cross-validation\n",
    "kf = KFold(n_splits=10, shuffle=True, random_state=42)\n",
    "\n",
    "linear_model = LinearRegression()\n",
    "knn_model = KNeighborsRegressor()\n",
    "tree_model = DecisionTreeRegressor()\n",
    "\n",
    "mse, mae, rmse, r2 = perform_cross_validation(sentiment, y, linear_model, kf)\n",
    "print(\"Linear Regression:\")\n",
    "print(\"Average MSE:\", mse)\n",
    "print(\"Average MAE:\", mae)\n",
    "print(\"Average RMSE:\", rmse)\n",
    "print(\"Average R²:\", r2)\n",
    "\n",
    "mse, mae, rmse, r2 = perform_cross_validation(sentiment, y, knn_model, kf)\n",
    "print(\"KNN:\")\n",
    "print(\"Average MSE:\", mse)\n",
    "print(\"Average MAE:\", mae)\n",
    "print(\"Average RMSE:\", rmse)\n",
    "print(\"Average R²:\", r2)\n",
    "\n",
    "mse, mae, rmse, r2 = perform_cross_validation(sentiment, y, tree_model, kf)\n",
    "print(\"Decision Tree:\")\n",
    "print(\"Average MSE:\", mse)\n",
    "print(\"Average MAE:\", mae)\n",
    "print(\"Average RMSE:\", rmse)\n",
    "print(\"Average R²:\", r2)"
   ]
  }
 ],
 "metadata": {
  "kernelspec": {
   "display_name": "base",
   "language": "python",
   "name": "python3"
  },
  "language_info": {
   "codemirror_mode": {
    "name": "ipython",
    "version": 3
   },
   "file_extension": ".py",
   "mimetype": "text/x-python",
   "name": "python",
   "nbconvert_exporter": "python",
   "pygments_lexer": "ipython3",
   "version": "3.11.5"
  }
 },
 "nbformat": 4,
 "nbformat_minor": 2
}
