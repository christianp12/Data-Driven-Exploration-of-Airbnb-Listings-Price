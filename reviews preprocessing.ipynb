{
 "cells": [
  {
   "cell_type": "code",
   "execution_count": 2,
   "metadata": {},
   "outputs": [
    {
     "name": "stderr",
     "output_type": "stream",
     "text": [
      "/Users/krys/anaconda3/lib/python3.11/site-packages/pandas/core/arrays/masked.py:60: UserWarning: Pandas requires version '1.3.6' or newer of 'bottleneck' (version '1.3.5' currently installed).\n",
      "  from pandas.core import (\n"
     ]
    }
   ],
   "source": [
    "import pandas as pd\n",
    "\n",
    "# Set display options to show more rows and columns\n",
    "pd.set_option('display.max_columns', None) # Show all columns\n",
    "\n",
    "reviews = pd.read_csv('/Users/krys/Desktop/UNIVERSITY/Year 1/Data Mining and Machine Learning/AirBnb datasets/barcelona/reviews.csv')"
   ]
  },
  {
   "cell_type": "code",
   "execution_count": 3,
   "metadata": {},
   "outputs": [
    {
     "data": {
      "text/html": [
       "<div>\n",
       "<style scoped>\n",
       "    .dataframe tbody tr th:only-of-type {\n",
       "        vertical-align: middle;\n",
       "    }\n",
       "\n",
       "    .dataframe tbody tr th {\n",
       "        vertical-align: top;\n",
       "    }\n",
       "\n",
       "    .dataframe thead th {\n",
       "        text-align: right;\n",
       "    }\n",
       "</style>\n",
       "<table border=\"1\" class=\"dataframe\">\n",
       "  <thead>\n",
       "    <tr style=\"text-align: right;\">\n",
       "      <th></th>\n",
       "      <th>listing_id</th>\n",
       "      <th>comments</th>\n",
       "    </tr>\n",
       "  </thead>\n",
       "  <tbody>\n",
       "    <tr>\n",
       "      <th>0</th>\n",
       "      <td>18674</td>\n",
       "      <td>Great location. Clean, spacious flat. Would re...</td>\n",
       "    </tr>\n",
       "    <tr>\n",
       "      <th>1</th>\n",
       "      <td>18674</td>\n",
       "      <td>Mi mejor recomendación para este departamento....</td>\n",
       "    </tr>\n",
       "    <tr>\n",
       "      <th>2</th>\n",
       "      <td>269467</td>\n",
       "      <td>Perfect place in a perfect area of Barcelona</td>\n",
       "    </tr>\n",
       "    <tr>\n",
       "      <th>3</th>\n",
       "      <td>269467</td>\n",
       "      <td>Nice appartment</td>\n",
       "    </tr>\n",
       "    <tr>\n",
       "      <th>4</th>\n",
       "      <td>18674</td>\n",
       "      <td>Big apartment, well equipped.\\r&lt;br/&gt;Very good ...</td>\n",
       "    </tr>\n",
       "    <tr>\n",
       "      <th>...</th>\n",
       "      <td>...</td>\n",
       "      <td>...</td>\n",
       "    </tr>\n",
       "    <tr>\n",
       "      <th>882258</th>\n",
       "      <td>1167131688163095864</td>\n",
       "      <td>Buen depa,  ien ubicado ybcon todo lo necesita...</td>\n",
       "    </tr>\n",
       "    <tr>\n",
       "      <th>882259</th>\n",
       "      <td>1173173612230312659</td>\n",
       "      <td>Fantastic flat in a nice neighbourhood. Everyt...</td>\n",
       "    </tr>\n",
       "    <tr>\n",
       "      <th>882260</th>\n",
       "      <td>1173173612230312659</td>\n",
       "      <td>Perfect apartment equipped with everything you...</td>\n",
       "    </tr>\n",
       "    <tr>\n",
       "      <th>882261</th>\n",
       "      <td>1173173612230312659</td>\n",
       "      <td>A lovely &amp; well presented comfy flat. The Loca...</td>\n",
       "    </tr>\n",
       "    <tr>\n",
       "      <th>882262</th>\n",
       "      <td>1168002852247884730</td>\n",
       "      <td>Not recommended for the price</td>\n",
       "    </tr>\n",
       "  </tbody>\n",
       "</table>\n",
       "<p>882263 rows × 2 columns</p>\n",
       "</div>"
      ],
      "text/plain": [
       "                 listing_id                                           comments\n",
       "0                     18674  Great location. Clean, spacious flat. Would re...\n",
       "1                     18674  Mi mejor recomendación para este departamento....\n",
       "2                    269467       Perfect place in a perfect area of Barcelona\n",
       "3                    269467                                    Nice appartment\n",
       "4                     18674  Big apartment, well equipped.\\r<br/>Very good ...\n",
       "...                     ...                                                ...\n",
       "882258  1167131688163095864  Buen depa,  ien ubicado ybcon todo lo necesita...\n",
       "882259  1173173612230312659  Fantastic flat in a nice neighbourhood. Everyt...\n",
       "882260  1173173612230312659  Perfect apartment equipped with everything you...\n",
       "882261  1173173612230312659  A lovely & well presented comfy flat. The Loca...\n",
       "882262  1168002852247884730                      Not recommended for the price\n",
       "\n",
       "[882263 rows x 2 columns]"
      ]
     },
     "execution_count": 3,
     "metadata": {},
     "output_type": "execute_result"
    }
   ],
   "source": [
    "columns_to_remove = ['id', 'date', 'reviewer_id', 'reviewer_name']\n",
    "reviews = reviews.drop(columns=columns_to_remove)\n",
    "reviews"
   ]
  },
  {
   "cell_type": "code",
   "execution_count": 4,
   "metadata": {},
   "outputs": [],
   "source": [
    "from langdetect import detect, LangDetectException\n",
    "\n",
    "# Function to detect language\n",
    "def is_english(text):\n",
    "    try:\n",
    "        return detect(text) == 'en'\n",
    "    except LangDetectException:\n",
    "        return False\n",
    "\n",
    "# Ensure the comments column is a string type to avoid errors\n",
    "reviews['comments'] = reviews['comments'].astype(str)\n",
    "\n",
    "# Apply the function to the 'comments' column\n",
    "reviews['is_english'] = reviews['comments'].apply(is_english)\n",
    "\n",
    "# Filter out non-English reviews\n",
    "reviews = reviews[reviews['is_english']].drop(columns=['is_english'])"
   ]
  },
  {
   "cell_type": "code",
   "execution_count": 6,
   "metadata": {},
   "outputs": [],
   "source": [
    "reviews.to_csv('english_reviews.csv', index=False)"
   ]
  }
 ],
 "metadata": {
  "kernelspec": {
   "display_name": "base",
   "language": "python",
   "name": "python3"
  },
  "language_info": {
   "codemirror_mode": {
    "name": "ipython",
    "version": 3
   },
   "file_extension": ".py",
   "mimetype": "text/x-python",
   "name": "python",
   "nbconvert_exporter": "python",
   "pygments_lexer": "ipython3",
   "version": "3.11.5"
  }
 },
 "nbformat": 4,
 "nbformat_minor": 2
}
