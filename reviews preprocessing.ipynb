{
 "cells": [
  {
   "cell_type": "code",
   "execution_count": null,
   "metadata": {},
   "outputs": [],
   "source": [
    "import pandas as pd\n",
    "\n",
    "# Set display options to show more rows and columns\n",
    "pd.set_option('display.max_columns', None) # Show all columns\n",
    "\n",
    "reviews = pd.read_csv('/Users/krys/Desktop/UNIVERSITY/Year 1/Data Mining and Machine Learning/AirBnb datasets/barcelona/reviews.csv')"
   ]
  },
  {
   "cell_type": "code",
   "execution_count": null,
   "metadata": {},
   "outputs": [],
   "source": [
    "columns_to_remove = ['id', 'date', 'reviewer_id', 'reviewer_name']\n",
    "reviews = reviews.drop(columns=columns_to_remove)\n",
    "reviews"
   ]
  },
  {
   "cell_type": "code",
   "execution_count": null,
   "metadata": {},
   "outputs": [],
   "source": [
    "from langdetect import detect, LangDetectException\n",
    "\n",
    "# Function to detect language\n",
    "def is_english(text):\n",
    "    try:\n",
    "        return detect(text) == 'en'\n",
    "    except LangDetectException:\n",
    "        return False\n",
    "\n",
    "# Ensure the comments column is a string type to avoid errors\n",
    "reviews['comments'] = reviews['comments'].astype(str)\n",
    "\n",
    "# Apply the function to the 'comments' column\n",
    "reviews['is_english'] = reviews['comments'].apply(is_english)\n",
    "\n",
    "# Filter out non-English reviews\n",
    "reviews = reviews[reviews['is_english']].drop(columns=['is_english'])"
   ]
  },
  {
   "cell_type": "code",
   "execution_count": null,
   "metadata": {},
   "outputs": [],
   "source": [
    "reviews.to_csv('english_reviews.csv', index=False)"
   ]
  },
  {
   "cell_type": "code",
   "execution_count": null,
   "metadata": {},
   "outputs": [],
   "source": [
    "import pandas as pd\n",
    "\n",
    "english_reviews = pd.read_csv('/Users/krys/Desktop/UNIVERSITY/Year 1/Data Mining and Machine Learning/AirBnb datasets/barcelona/english_reviews.csv')\n",
    "\n",
    "english_reviews"
   ]
  },
  {
   "cell_type": "code",
   "execution_count": null,
   "metadata": {},
   "outputs": [],
   "source": [
    "from textblob import TextBlob\n",
    "\n",
    "# Function to get sentiment\n",
    "def get_sentiment(text):\n",
    "    blob = TextBlob(text)\n",
    "    return blob.sentiment.polarity\n",
    "\n",
    "# Ensure the comments column is a string type to avoid errors\n",
    "english_reviews['comments'] = english_reviews['comments'].astype(str)\n",
    "\n",
    "# Apply the sentiment function to the 'comments' column\n",
    "english_reviews['sentiment'] = english_reviews['comments'].apply(get_sentiment)"
   ]
  },
  {
   "cell_type": "code",
   "execution_count": null,
   "metadata": {},
   "outputs": [],
   "source": [
    "english_reviews.to_csv('english_reviews_with_sentiment.csv', index=False)"
   ]
  },
  {
   "cell_type": "code",
   "execution_count": 18,
   "metadata": {},
   "outputs": [
    {
     "data": {
      "text/html": [
       "<div>\n",
       "<style scoped>\n",
       "    .dataframe tbody tr th:only-of-type {\n",
       "        vertical-align: middle;\n",
       "    }\n",
       "\n",
       "    .dataframe tbody tr th {\n",
       "        vertical-align: top;\n",
       "    }\n",
       "\n",
       "    .dataframe thead th {\n",
       "        text-align: right;\n",
       "    }\n",
       "</style>\n",
       "<table border=\"1\" class=\"dataframe\">\n",
       "  <thead>\n",
       "    <tr style=\"text-align: right;\">\n",
       "      <th></th>\n",
       "      <th>listing_id</th>\n",
       "      <th>sentiment</th>\n",
       "    </tr>\n",
       "  </thead>\n",
       "  <tbody>\n",
       "    <tr>\n",
       "      <th>0</th>\n",
       "      <td>18674</td>\n",
       "      <td>0.380556</td>\n",
       "    </tr>\n",
       "    <tr>\n",
       "      <th>1</th>\n",
       "      <td>269467</td>\n",
       "      <td>1.000000</td>\n",
       "    </tr>\n",
       "    <tr>\n",
       "      <th>2</th>\n",
       "      <td>18674</td>\n",
       "      <td>0.566667</td>\n",
       "    </tr>\n",
       "    <tr>\n",
       "      <th>3</th>\n",
       "      <td>18674</td>\n",
       "      <td>0.206863</td>\n",
       "    </tr>\n",
       "    <tr>\n",
       "      <th>4</th>\n",
       "      <td>18674</td>\n",
       "      <td>0.180000</td>\n",
       "    </tr>\n",
       "    <tr>\n",
       "      <th>...</th>\n",
       "      <td>...</td>\n",
       "      <td>...</td>\n",
       "    </tr>\n",
       "    <tr>\n",
       "      <th>546760</th>\n",
       "      <td>1159510907921502773</td>\n",
       "      <td>0.333333</td>\n",
       "    </tr>\n",
       "    <tr>\n",
       "      <th>546761</th>\n",
       "      <td>1173173612230312659</td>\n",
       "      <td>0.278205</td>\n",
       "    </tr>\n",
       "    <tr>\n",
       "      <th>546762</th>\n",
       "      <td>1173173612230312659</td>\n",
       "      <td>0.302963</td>\n",
       "    </tr>\n",
       "    <tr>\n",
       "      <th>546763</th>\n",
       "      <td>1173173612230312659</td>\n",
       "      <td>0.337000</td>\n",
       "    </tr>\n",
       "    <tr>\n",
       "      <th>546764</th>\n",
       "      <td>1168002852247884730</td>\n",
       "      <td>0.000000</td>\n",
       "    </tr>\n",
       "  </tbody>\n",
       "</table>\n",
       "<p>546765 rows × 2 columns</p>\n",
       "</div>"
      ],
      "text/plain": [
       "                 listing_id  sentiment\n",
       "0                     18674   0.380556\n",
       "1                    269467   1.000000\n",
       "2                     18674   0.566667\n",
       "3                     18674   0.206863\n",
       "4                     18674   0.180000\n",
       "...                     ...        ...\n",
       "546760  1159510907921502773   0.333333\n",
       "546761  1173173612230312659   0.278205\n",
       "546762  1173173612230312659   0.302963\n",
       "546763  1173173612230312659   0.337000\n",
       "546764  1168002852247884730   0.000000\n",
       "\n",
       "[546765 rows x 2 columns]"
      ]
     },
     "execution_count": 18,
     "metadata": {},
     "output_type": "execute_result"
    }
   ],
   "source": [
    "import pandas as pd\n",
    "\n",
    "english_reviews_with_sentiment = pd.read_csv('/Users/krys/Desktop/UNIVERSITY/Year 1/Data Mining and Machine Learning/AirBnb datasets/barcelona/english_reviews_with_sentiment.csv')\n",
    "\n",
    "english_reviews_with_sentiment = english_reviews_with_sentiment.drop(columns = ['comments'])\n",
    "\n",
    "english_reviews_with_sentiment"
   ]
  },
  {
   "cell_type": "code",
   "execution_count": 20,
   "metadata": {},
   "outputs": [],
   "source": [
    "# Ensure listing_id is treated as string\n",
    "english_reviews_with_sentiment['listing_id'] = english_reviews_with_sentiment['listing_id'].astype(str)\n",
    "\n",
    "# Group by 'listing_id' and calculate the average sentiment\n",
    "average_sentiment = english_reviews_with_sentiment.groupby('listing_id')['sentiment'].mean().reset_index()"
   ]
  },
  {
   "cell_type": "code",
   "execution_count": 23,
   "metadata": {},
   "outputs": [],
   "source": [
    "average_sentiment.to_csv('sentiment.csv', index=False)"
   ]
  }
 ],
 "metadata": {
  "kernelspec": {
   "display_name": "base",
   "language": "python",
   "name": "python3"
  },
  "language_info": {
   "codemirror_mode": {
    "name": "ipython",
    "version": 3
   },
   "file_extension": ".py",
   "mimetype": "text/x-python",
   "name": "python",
   "nbconvert_exporter": "python",
   "pygments_lexer": "ipython3",
   "version": "3.11.5"
  }
 },
 "nbformat": 4,
 "nbformat_minor": 2
}
