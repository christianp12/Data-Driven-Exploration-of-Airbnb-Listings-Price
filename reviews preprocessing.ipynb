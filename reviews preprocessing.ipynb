{
 "cells": [
  {
   "cell_type": "code",
   "execution_count": null,
   "metadata": {},
   "outputs": [],
   "source": [
    "import pandas as pd\n",
    "\n",
    "# Set display options to show more rows and columns\n",
    "pd.set_option('display.max_columns', None) # Show all columns\n",
    "\n",
    "reviews = pd.read_csv('/Users/krys/Desktop/UNIVERSITY/Year 1/Data Mining and Machine Learning/AirBnb datasets/barcelona/reviews.csv')"
   ]
  },
  {
   "cell_type": "code",
   "execution_count": null,
   "metadata": {},
   "outputs": [],
   "source": [
    "columns_to_remove = ['id', 'date', 'reviewer_id', 'reviewer_name']\n",
    "reviews = reviews.drop(columns=columns_to_remove)\n",
    "reviews"
   ]
  },
  {
   "cell_type": "code",
   "execution_count": null,
   "metadata": {},
   "outputs": [],
   "source": [
    "from langdetect import detect, LangDetectException\n",
    "\n",
    "# Function to detect language\n",
    "def is_english(text):\n",
    "    try:\n",
    "        return detect(text) == 'en'\n",
    "    except LangDetectException:\n",
    "        return False\n",
    "\n",
    "# Ensure the comments column is a string type to avoid errors\n",
    "reviews['comments'] = reviews['comments'].astype(str)\n",
    "\n",
    "# Apply the function to the 'comments' column\n",
    "reviews['is_english'] = reviews['comments'].apply(is_english)\n",
    "\n",
    "# Filter out non-English reviews\n",
    "reviews = reviews[reviews['is_english']].drop(columns=['is_english'])"
   ]
  },
  {
   "cell_type": "code",
   "execution_count": null,
   "metadata": {},
   "outputs": [],
   "source": [
    "reviews.to_csv('english_reviews.csv', index=False)"
   ]
  },
  {
   "cell_type": "code",
   "execution_count": 1,
   "metadata": {},
   "outputs": [
    {
     "name": "stderr",
     "output_type": "stream",
     "text": [
      "/Users/krys/anaconda3/lib/python3.11/site-packages/pandas/core/arrays/masked.py:60: UserWarning: Pandas requires version '1.3.6' or newer of 'bottleneck' (version '1.3.5' currently installed).\n",
      "  from pandas.core import (\n"
     ]
    }
   ],
   "source": [
    "import pandas as pd\n",
    "\n",
    "english_reviews = pd.read_csv('/Users/krys/Desktop/UNIVERSITY/Year 1/Data Mining and Machine Learning/AirBnb datasets/barcelona/english_reviews.csv')"
   ]
  },
  {
   "cell_type": "code",
   "execution_count": 4,
   "metadata": {},
   "outputs": [],
   "source": [
    "from textblob import TextBlob\n",
    "\n",
    "# Function to get sentiment\n",
    "def get_sentiment(text):\n",
    "    blob = TextBlob(text)\n",
    "    return blob.sentiment.polarity\n",
    "\n",
    "# Ensure the comments column is a string type to avoid errors\n",
    "english_reviews['comments'] = english_reviews['comments'].astype(str)\n",
    "\n",
    "# Apply the sentiment function to the 'comments' column\n",
    "english_reviews['sentiment'] = english_reviews['comments'].apply(get_sentiment)"
   ]
  },
  {
   "cell_type": "code",
   "execution_count": 7,
   "metadata": {},
   "outputs": [],
   "source": [
    "english_reviews.to_csv('english_reviews_with_sentiment.csv', index=False)"
   ]
  },
  {
   "cell_type": "code",
   "execution_count": 15,
   "metadata": {},
   "outputs": [
    {
     "data": {
      "text/html": [
       "<div>\n",
       "<style scoped>\n",
       "    .dataframe tbody tr th:only-of-type {\n",
       "        vertical-align: middle;\n",
       "    }\n",
       "\n",
       "    .dataframe tbody tr th {\n",
       "        vertical-align: top;\n",
       "    }\n",
       "\n",
       "    .dataframe thead th {\n",
       "        text-align: right;\n",
       "    }\n",
       "</style>\n",
       "<table border=\"1\" class=\"dataframe\">\n",
       "  <thead>\n",
       "    <tr style=\"text-align: right;\">\n",
       "      <th></th>\n",
       "      <th>listing_id</th>\n",
       "      <th>comments</th>\n",
       "      <th>sentiment</th>\n",
       "    </tr>\n",
       "  </thead>\n",
       "  <tbody>\n",
       "    <tr>\n",
       "      <th>0</th>\n",
       "      <td>18674</td>\n",
       "      <td>Great location. Clean, spacious flat. Would re...</td>\n",
       "      <td>0.380556</td>\n",
       "    </tr>\n",
       "    <tr>\n",
       "      <th>1</th>\n",
       "      <td>269467</td>\n",
       "      <td>Perfect place in a perfect area of Barcelona</td>\n",
       "      <td>1.000000</td>\n",
       "    </tr>\n",
       "    <tr>\n",
       "      <th>2</th>\n",
       "      <td>18674</td>\n",
       "      <td>Big apartment, well equipped.\\r&lt;br/&gt;Very good ...</td>\n",
       "      <td>0.566667</td>\n",
       "    </tr>\n",
       "    <tr>\n",
       "      <th>3</th>\n",
       "      <td>18674</td>\n",
       "      <td>The Check in was fast and flexible. The price ...</td>\n",
       "      <td>0.206863</td>\n",
       "    </tr>\n",
       "    <tr>\n",
       "      <th>4</th>\n",
       "      <td>18674</td>\n",
       "      <td>Great location and enough space in the apartme...</td>\n",
       "      <td>0.180000</td>\n",
       "    </tr>\n",
       "    <tr>\n",
       "      <th>...</th>\n",
       "      <td>...</td>\n",
       "      <td>...</td>\n",
       "      <td>...</td>\n",
       "    </tr>\n",
       "    <tr>\n",
       "      <th>546760</th>\n",
       "      <td>1159510907921502773</td>\n",
       "      <td>Absolutely perfect place to stay in heart of B...</td>\n",
       "      <td>0.333333</td>\n",
       "    </tr>\n",
       "    <tr>\n",
       "      <th>546761</th>\n",
       "      <td>1173173612230312659</td>\n",
       "      <td>Fantastic flat in a nice neighbourhood. Everyt...</td>\n",
       "      <td>0.278205</td>\n",
       "    </tr>\n",
       "    <tr>\n",
       "      <th>546762</th>\n",
       "      <td>1173173612230312659</td>\n",
       "      <td>Perfect apartment equipped with everything you...</td>\n",
       "      <td>0.302963</td>\n",
       "    </tr>\n",
       "    <tr>\n",
       "      <th>546763</th>\n",
       "      <td>1173173612230312659</td>\n",
       "      <td>A lovely &amp; well presented comfy flat. The Loca...</td>\n",
       "      <td>0.337000</td>\n",
       "    </tr>\n",
       "    <tr>\n",
       "      <th>546764</th>\n",
       "      <td>1168002852247884730</td>\n",
       "      <td>Not recommended for the price</td>\n",
       "      <td>0.000000</td>\n",
       "    </tr>\n",
       "  </tbody>\n",
       "</table>\n",
       "<p>546765 rows × 3 columns</p>\n",
       "</div>"
      ],
      "text/plain": [
       "                 listing_id  \\\n",
       "0                     18674   \n",
       "1                    269467   \n",
       "2                     18674   \n",
       "3                     18674   \n",
       "4                     18674   \n",
       "...                     ...   \n",
       "546760  1159510907921502773   \n",
       "546761  1173173612230312659   \n",
       "546762  1173173612230312659   \n",
       "546763  1173173612230312659   \n",
       "546764  1168002852247884730   \n",
       "\n",
       "                                                 comments  sentiment  \n",
       "0       Great location. Clean, spacious flat. Would re...   0.380556  \n",
       "1            Perfect place in a perfect area of Barcelona   1.000000  \n",
       "2       Big apartment, well equipped.\\r<br/>Very good ...   0.566667  \n",
       "3       The Check in was fast and flexible. The price ...   0.206863  \n",
       "4       Great location and enough space in the apartme...   0.180000  \n",
       "...                                                   ...        ...  \n",
       "546760  Absolutely perfect place to stay in heart of B...   0.333333  \n",
       "546761  Fantastic flat in a nice neighbourhood. Everyt...   0.278205  \n",
       "546762  Perfect apartment equipped with everything you...   0.302963  \n",
       "546763  A lovely & well presented comfy flat. The Loca...   0.337000  \n",
       "546764                      Not recommended for the price   0.000000  \n",
       "\n",
       "[546765 rows x 3 columns]"
      ]
     },
     "execution_count": 15,
     "metadata": {},
     "output_type": "execute_result"
    }
   ],
   "source": [
    "english_reviews"
   ]
  },
  {
   "cell_type": "code",
   "execution_count": 9,
   "metadata": {},
   "outputs": [],
   "source": [
    "# Group by 'id' and calculate the mean sentiment for each group\n",
    "aggregated_sentiment = english_reviews.groupby('listing_id')['sentiment'].mean().reset_index()\n",
    "aggregated_sentiment.rename(columns={'sentiment': 'average_sentiment'}, inplace=True)"
   ]
  },
  {
   "cell_type": "code",
   "execution_count": 13,
   "metadata": {},
   "outputs": [],
   "source": [
    "# Sort the dataset by 'average_sentiment' in ascending order\n",
    "aggregated_sentiment = aggregated_sentiment.sort_values(by='listing_id')"
   ]
  },
  {
   "cell_type": "code",
   "execution_count": 14,
   "metadata": {},
   "outputs": [
    {
     "data": {
      "text/html": [
       "<div>\n",
       "<style scoped>\n",
       "    .dataframe tbody tr th:only-of-type {\n",
       "        vertical-align: middle;\n",
       "    }\n",
       "\n",
       "    .dataframe tbody tr th {\n",
       "        vertical-align: top;\n",
       "    }\n",
       "\n",
       "    .dataframe thead th {\n",
       "        text-align: right;\n",
       "    }\n",
       "</style>\n",
       "<table border=\"1\" class=\"dataframe\">\n",
       "  <thead>\n",
       "    <tr style=\"text-align: right;\">\n",
       "      <th></th>\n",
       "      <th>listing_id</th>\n",
       "      <th>average_sentiment</th>\n",
       "    </tr>\n",
       "  </thead>\n",
       "  <tbody>\n",
       "    <tr>\n",
       "      <th>0</th>\n",
       "      <td>10003263</td>\n",
       "      <td>0.405025</td>\n",
       "    </tr>\n",
       "    <tr>\n",
       "      <th>1</th>\n",
       "      <td>1000432235531291341</td>\n",
       "      <td>0.336934</td>\n",
       "    </tr>\n",
       "    <tr>\n",
       "      <th>2</th>\n",
       "      <td>1000447810456915898</td>\n",
       "      <td>0.376677</td>\n",
       "    </tr>\n",
       "    <tr>\n",
       "      <th>3</th>\n",
       "      <td>1000466852301593784</td>\n",
       "      <td>0.432986</td>\n",
       "    </tr>\n",
       "    <tr>\n",
       "      <th>4</th>\n",
       "      <td>1000514588274707195</td>\n",
       "      <td>0.364167</td>\n",
       "    </tr>\n",
       "    <tr>\n",
       "      <th>...</th>\n",
       "      <td>...</td>\n",
       "      <td>...</td>\n",
       "    </tr>\n",
       "    <tr>\n",
       "      <th>16637</th>\n",
       "      <td>&lt;br/&gt;ホストのレオはとても親切な人で、予約までのやりとりのメールもスムーズに行えました。</td>\n",
       "      <td>0.000000</td>\n",
       "    </tr>\n",
       "    <tr>\n",
       "      <th>16638</th>\n",
       "      <td>&lt;br/&gt;到着した日にはバルセロナの地図をくれて、地下鉄の乗り方や観光名所のまでの行き方、近...</td>\n",
       "      <td>0.000000</td>\n",
       "    </tr>\n",
       "    <tr>\n",
       "      <th>16639</th>\n",
       "      <td>&lt;br/&gt;这套公寓堪称完美，装饰的非常特别，坐在阳台上享受早餐或者晚餐是非常棒的体验。我们很...</td>\n",
       "      <td>0.000000</td>\n",
       "    </tr>\n",
       "    <tr>\n",
       "      <th>16640</th>\n",
       "      <td>&lt;br/&gt;部屋は清潔でとても居心地のいい空間でした。</td>\n",
       "      <td>0.000000</td>\n",
       "    </tr>\n",
       "    <tr>\n",
       "      <th>16641</th>\n",
       "      <td>&lt;br/&gt;감사합니다.</td>\n",
       "      <td>0.000000</td>\n",
       "    </tr>\n",
       "  </tbody>\n",
       "</table>\n",
       "<p>16642 rows × 2 columns</p>\n",
       "</div>"
      ],
      "text/plain": [
       "                                              listing_id  average_sentiment\n",
       "0                                               10003263           0.405025\n",
       "1                                    1000432235531291341           0.336934\n",
       "2                                    1000447810456915898           0.376677\n",
       "3                                    1000466852301593784           0.432986\n",
       "4                                    1000514588274707195           0.364167\n",
       "...                                                  ...                ...\n",
       "16637     <br/>ホストのレオはとても親切な人で、予約までのやりとりのメールもスムーズに行えました。           0.000000\n",
       "16638  <br/>到着した日にはバルセロナの地図をくれて、地下鉄の乗り方や観光名所のまでの行き方、近...           0.000000\n",
       "16639  <br/>这套公寓堪称完美，装饰的非常特别，坐在阳台上享受早餐或者晚餐是非常棒的体验。我们很...           0.000000\n",
       "16640                         <br/>部屋は清潔でとても居心地のいい空間でした。           0.000000\n",
       "16641                                        <br/>감사합니다.           0.000000\n",
       "\n",
       "[16642 rows x 2 columns]"
      ]
     },
     "execution_count": 14,
     "metadata": {},
     "output_type": "execute_result"
    }
   ],
   "source": [
    "aggregated_sentiment"
   ]
  }
 ],
 "metadata": {
  "kernelspec": {
   "display_name": "base",
   "language": "python",
   "name": "python3"
  },
  "language_info": {
   "codemirror_mode": {
    "name": "ipython",
    "version": 3
   },
   "file_extension": ".py",
   "mimetype": "text/x-python",
   "name": "python",
   "nbconvert_exporter": "python",
   "pygments_lexer": "ipython3",
   "version": "3.11.5"
  }
 },
 "nbformat": 4,
 "nbformat_minor": 2
}
