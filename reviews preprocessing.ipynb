{
 "cells": [
  {
   "cell_type": "code",
   "execution_count": 4,
   "metadata": {},
   "outputs": [
    {
     "data": {
      "text/html": [
       "<div>\n",
       "<style scoped>\n",
       "    .dataframe tbody tr th:only-of-type {\n",
       "        vertical-align: middle;\n",
       "    }\n",
       "\n",
       "    .dataframe tbody tr th {\n",
       "        vertical-align: top;\n",
       "    }\n",
       "\n",
       "    .dataframe thead th {\n",
       "        text-align: right;\n",
       "    }\n",
       "</style>\n",
       "<table border=\"1\" class=\"dataframe\">\n",
       "  <thead>\n",
       "    <tr style=\"text-align: right;\">\n",
       "      <th></th>\n",
       "      <th>listing_id</th>\n",
       "      <th>id</th>\n",
       "      <th>date</th>\n",
       "      <th>reviewer_id</th>\n",
       "      <th>reviewer_name</th>\n",
       "      <th>comments</th>\n",
       "    </tr>\n",
       "  </thead>\n",
       "  <tbody>\n",
       "    <tr>\n",
       "      <th>0</th>\n",
       "      <td>18674</td>\n",
       "      <td>4808211</td>\n",
       "      <td>2013-05-27</td>\n",
       "      <td>4841196</td>\n",
       "      <td>Caron</td>\n",
       "      <td>Great location. Clean, spacious flat. Would re...</td>\n",
       "    </tr>\n",
       "    <tr>\n",
       "      <th>1</th>\n",
       "      <td>18674</td>\n",
       "      <td>10660311</td>\n",
       "      <td>2014-03-02</td>\n",
       "      <td>11600277</td>\n",
       "      <td>Juan Carlos</td>\n",
       "      <td>Mi mejor recomendación para este departamento....</td>\n",
       "    </tr>\n",
       "    <tr>\n",
       "      <th>2</th>\n",
       "      <td>269467</td>\n",
       "      <td>223325774</td>\n",
       "      <td>2018-01-01</td>\n",
       "      <td>41885149</td>\n",
       "      <td>Anita</td>\n",
       "      <td>Perfect place in a perfect area of Barcelona</td>\n",
       "    </tr>\n",
       "    <tr>\n",
       "      <th>3</th>\n",
       "      <td>269467</td>\n",
       "      <td>247939103</td>\n",
       "      <td>2018-03-30</td>\n",
       "      <td>120056532</td>\n",
       "      <td>Michael</td>\n",
       "      <td>Nice appartment</td>\n",
       "    </tr>\n",
       "    <tr>\n",
       "      <th>4</th>\n",
       "      <td>18674</td>\n",
       "      <td>41087522</td>\n",
       "      <td>2015-08-04</td>\n",
       "      <td>35231385</td>\n",
       "      <td>Shlomi</td>\n",
       "      <td>Big apartment, well equipped.\\r&lt;br/&gt;Very good ...</td>\n",
       "    </tr>\n",
       "  </tbody>\n",
       "</table>\n",
       "</div>"
      ],
      "text/plain": [
       "   listing_id         id        date  reviewer_id reviewer_name  \\\n",
       "0       18674    4808211  2013-05-27      4841196         Caron   \n",
       "1       18674   10660311  2014-03-02     11600277   Juan Carlos   \n",
       "2      269467  223325774  2018-01-01     41885149         Anita   \n",
       "3      269467  247939103  2018-03-30    120056532       Michael   \n",
       "4       18674   41087522  2015-08-04     35231385        Shlomi   \n",
       "\n",
       "                                            comments  \n",
       "0  Great location. Clean, spacious flat. Would re...  \n",
       "1  Mi mejor recomendación para este departamento....  \n",
       "2       Perfect place in a perfect area of Barcelona  \n",
       "3                                    Nice appartment  \n",
       "4  Big apartment, well equipped.\\r<br/>Very good ...  "
      ]
     },
     "execution_count": 4,
     "metadata": {},
     "output_type": "execute_result"
    }
   ],
   "source": [
    "import pandas as pd\n",
    "\n",
    "reviews = pd.read_csv('../AirBnb datasets/barcelona/reviews.csv')\n",
    "\n",
    "reviews.head()"
   ]
  },
  {
   "cell_type": "markdown",
   "metadata": {},
   "source": [
    "Remove irrelevant columns"
   ]
  },
  {
   "cell_type": "code",
   "execution_count": null,
   "metadata": {},
   "outputs": [],
   "source": [
    "columns_to_remove = ['id', 'date', 'reviewer_id', 'reviewer_name']\n",
    "reviews = reviews.drop(columns=columns_to_remove)\n",
    "reviews"
   ]
  },
  {
   "cell_type": "markdown",
   "metadata": {},
   "source": [
    "Keep only reviews written in English"
   ]
  },
  {
   "cell_type": "code",
   "execution_count": null,
   "metadata": {},
   "outputs": [],
   "source": [
    "from langdetect import detect, LangDetectException\n",
    "\n",
    "reviews['comments'] = reviews['comments'].astype(str)\n",
    "\n",
    "def is_english(text):\n",
    "    try:\n",
    "        return detect(text) == 'en'\n",
    "    except LangDetectException:\n",
    "        return False\n",
    "\n",
    "reviews['is_english'] = reviews['comments'].apply(is_english)\n",
    "reviews = reviews[reviews['is_english']].drop(columns=['is_english'])"
   ]
  },
  {
   "cell_type": "code",
   "execution_count": null,
   "metadata": {},
   "outputs": [],
   "source": [
    "reviews.to_csv('english_reviews.csv', index=False)"
   ]
  },
  {
   "cell_type": "code",
   "execution_count": null,
   "metadata": {},
   "outputs": [],
   "source": [
    "import pandas as pd\n",
    "\n",
    "english_reviews = pd.read_csv('/Users/krys/Desktop/UNIVERSITY/Year 1/Data Mining and Machine Learning/AirBnb datasets/barcelona/english_reviews.csv')\n",
    "\n",
    "english_reviews"
   ]
  },
  {
   "cell_type": "markdown",
   "metadata": {},
   "source": [
    "Calculate sentiment"
   ]
  },
  {
   "cell_type": "code",
   "execution_count": null,
   "metadata": {},
   "outputs": [],
   "source": [
    "from textblob import TextBlob\n",
    "\n",
    "english_reviews['comments'] = english_reviews['comments'].astype(str)\n",
    "\n",
    "def get_sentiment(text):\n",
    "    blob = TextBlob(text)\n",
    "    return blob.sentiment.polarity\n",
    "\n",
    "\n",
    "english_reviews['sentiment'] = english_reviews['comments'].apply(get_sentiment)\n",
    "\n",
    "english_reviews.head()"
   ]
  },
  {
   "cell_type": "code",
   "execution_count": null,
   "metadata": {},
   "outputs": [],
   "source": [
    "english_reviews.to_csv('english_reviews_with_sentiment.csv', index=False)"
   ]
  },
  {
   "cell_type": "code",
   "execution_count": 18,
   "metadata": {},
   "outputs": [
    {
     "data": {
      "text/html": [
       "<div>\n",
       "<style scoped>\n",
       "    .dataframe tbody tr th:only-of-type {\n",
       "        vertical-align: middle;\n",
       "    }\n",
       "\n",
       "    .dataframe tbody tr th {\n",
       "        vertical-align: top;\n",
       "    }\n",
       "\n",
       "    .dataframe thead th {\n",
       "        text-align: right;\n",
       "    }\n",
       "</style>\n",
       "<table border=\"1\" class=\"dataframe\">\n",
       "  <thead>\n",
       "    <tr style=\"text-align: right;\">\n",
       "      <th></th>\n",
       "      <th>listing_id</th>\n",
       "      <th>sentiment</th>\n",
       "    </tr>\n",
       "  </thead>\n",
       "  <tbody>\n",
       "    <tr>\n",
       "      <th>0</th>\n",
       "      <td>18674</td>\n",
       "      <td>0.380556</td>\n",
       "    </tr>\n",
       "    <tr>\n",
       "      <th>1</th>\n",
       "      <td>269467</td>\n",
       "      <td>1.000000</td>\n",
       "    </tr>\n",
       "    <tr>\n",
       "      <th>2</th>\n",
       "      <td>18674</td>\n",
       "      <td>0.566667</td>\n",
       "    </tr>\n",
       "    <tr>\n",
       "      <th>3</th>\n",
       "      <td>18674</td>\n",
       "      <td>0.206863</td>\n",
       "    </tr>\n",
       "    <tr>\n",
       "      <th>4</th>\n",
       "      <td>18674</td>\n",
       "      <td>0.180000</td>\n",
       "    </tr>\n",
       "    <tr>\n",
       "      <th>...</th>\n",
       "      <td>...</td>\n",
       "      <td>...</td>\n",
       "    </tr>\n",
       "    <tr>\n",
       "      <th>546760</th>\n",
       "      <td>1159510907921502773</td>\n",
       "      <td>0.333333</td>\n",
       "    </tr>\n",
       "    <tr>\n",
       "      <th>546761</th>\n",
       "      <td>1173173612230312659</td>\n",
       "      <td>0.278205</td>\n",
       "    </tr>\n",
       "    <tr>\n",
       "      <th>546762</th>\n",
       "      <td>1173173612230312659</td>\n",
       "      <td>0.302963</td>\n",
       "    </tr>\n",
       "    <tr>\n",
       "      <th>546763</th>\n",
       "      <td>1173173612230312659</td>\n",
       "      <td>0.337000</td>\n",
       "    </tr>\n",
       "    <tr>\n",
       "      <th>546764</th>\n",
       "      <td>1168002852247884730</td>\n",
       "      <td>0.000000</td>\n",
       "    </tr>\n",
       "  </tbody>\n",
       "</table>\n",
       "<p>546765 rows × 2 columns</p>\n",
       "</div>"
      ],
      "text/plain": [
       "                 listing_id  sentiment\n",
       "0                     18674   0.380556\n",
       "1                    269467   1.000000\n",
       "2                     18674   0.566667\n",
       "3                     18674   0.206863\n",
       "4                     18674   0.180000\n",
       "...                     ...        ...\n",
       "546760  1159510907921502773   0.333333\n",
       "546761  1173173612230312659   0.278205\n",
       "546762  1173173612230312659   0.302963\n",
       "546763  1173173612230312659   0.337000\n",
       "546764  1168002852247884730   0.000000\n",
       "\n",
       "[546765 rows x 2 columns]"
      ]
     },
     "execution_count": 18,
     "metadata": {},
     "output_type": "execute_result"
    }
   ],
   "source": [
    "import pandas as pd\n",
    "\n",
    "english_reviews_with_sentiment = pd.read_csv('/Users/krys/Desktop/UNIVERSITY/Year 1/Data Mining and Machine Learning/AirBnb datasets/barcelona/english_reviews_with_sentiment.csv')\n",
    "\n",
    "english_reviews_with_sentiment = english_reviews_with_sentiment.drop(columns = ['comments'])"
   ]
  },
  {
   "cell_type": "markdown",
   "metadata": {},
   "source": [
    "Group by 'listing_id' and calculate the average sentiment\n"
   ]
  },
  {
   "cell_type": "code",
   "execution_count": 20,
   "metadata": {},
   "outputs": [],
   "source": [
    "english_reviews_with_sentiment['listing_id'] = english_reviews_with_sentiment['listing_id'].astype(str)\n",
    "\n",
    "average_sentiment = english_reviews_with_sentiment.groupby('listing_id')['sentiment'].mean().reset_index()\n",
    "\n",
    "average_sentiment.head()"
   ]
  },
  {
   "cell_type": "code",
   "execution_count": 23,
   "metadata": {},
   "outputs": [],
   "source": [
    "average_sentiment.to_csv('sentiment.csv', index=False)"
   ]
  }
 ],
 "metadata": {
  "kernelspec": {
   "display_name": "base",
   "language": "python",
   "name": "python3"
  },
  "language_info": {
   "codemirror_mode": {
    "name": "ipython",
    "version": 3
   },
   "file_extension": ".py",
   "mimetype": "text/x-python",
   "name": "python",
   "nbconvert_exporter": "python",
   "pygments_lexer": "ipython3",
   "version": "3.11.5"
  }
 },
 "nbformat": 4,
 "nbformat_minor": 2
}
