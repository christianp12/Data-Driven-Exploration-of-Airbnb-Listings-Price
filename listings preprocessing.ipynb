{
 "cells": [
  {
   "cell_type": "code",
   "execution_count": null,
   "metadata": {},
   "outputs": [],
   "source": [
    "import pandas as pd\n",
    "\n",
    "# Set display options to show more rows and columns\n",
    "pd.set_option('display.max_columns', None) # Show all columns\n",
    "\n",
    "listings = pd.read_csv('../AirBnb datasets/barcelona/listings.csv')\n",
    "\n",
    "listings.head()"
   ]
  },
  {
   "cell_type": "code",
   "execution_count": null,
   "metadata": {},
   "outputs": [],
   "source": [
    "# Identify columns where all values are the same\n",
    "constant_columns = [col for col in listings.columns if listings[col].nunique() == 1]\n",
    "\n",
    "# Print the columns where all values are the same\n",
    "print(\"Columns where all values are the same:\", constant_columns)"
   ]
  },
  {
   "cell_type": "code",
   "execution_count": null,
   "metadata": {},
   "outputs": [],
   "source": [
    "# Remove columns where all values are the same\n",
    "columns_to_remove = ['scrape_id', 'last_scraped', 'calendar_last_scraped']\n",
    "listings = listings.drop(columns=columns_to_remove)"
   ]
  },
  {
   "cell_type": "code",
   "execution_count": null,
   "metadata": {},
   "outputs": [],
   "source": [
    "# Remove irrelevant or uninformative features\n",
    "columns_to_remove = ['listing_url', 'source', 'name', 'description', 'neighborhood_overview',\n",
    "                     'picture_url', 'host_id', 'host_url', 'host_name', 'host_about', 'host_thumbnail_url',\n",
    "                     'host_picture_url', 'license', 'calendar_updated']\n",
    "\n",
    "listings = listings.drop(columns=columns_to_remove)"
   ]
  },
  {
   "cell_type": "code",
   "execution_count": null,
   "metadata": {},
   "outputs": [],
   "source": [
    "# Convert boolean values into binary representations\n",
    "listings['host_is_superhost'] = listings['host_is_superhost'].replace({'t': 1, 'f': 0})\n",
    "listings['instant_bookable'] = listings['instant_bookable'].replace({'t': 1, 'f': 0})\n",
    "listings['host_has_profile_pic'] = listings['host_has_profile_pic'].replace({'t': 1, 'f': 0})\n",
    "listings['host_identity_verified'] = listings['host_identity_verified'].replace({'t': 1, 'f': 0})\n",
    "listings['has_availability'] = listings['has_availability'].replace({'t': 1, 'f': 0})"
   ]
  },
  {
   "cell_type": "code",
   "execution_count": null,
   "metadata": {},
   "outputs": [],
   "source": [
    "# Remove the dollar symbol and commas, then convert the column to numeric\n",
    "listings['price'] = listings['price'].str.replace('$', '', regex=False).str.replace(',', '', regex=False).astype(float)\n",
    "\n",
    "listings['host_acceptance_rate'] = listings['host_acceptance_rate'].str.replace('%', '', regex=False).astype(float)\n",
    "listings['host_response_rate'] = listings['host_response_rate'].str.replace('%', '', regex=False).astype(float)"
   ]
  },
  {
   "cell_type": "markdown",
   "metadata": {},
   "source": [
    "Importing amenities from \"amenities.csv\" dataset"
   ]
  },
  {
   "cell_type": "code",
   "execution_count": null,
   "metadata": {},
   "outputs": [],
   "source": [
    "amenities_dummies = pd.read_csv('amenities.csv')"
   ]
  },
  {
   "cell_type": "code",
   "execution_count": null,
   "metadata": {},
   "outputs": [],
   "source": [
    "# Concatenate the original DataFrame (excluding the old 'amenities' column) with the new boolean features\n",
    "listings = pd.concat([listings.drop(columns=['amenities']), amenities_dummies], axis=1)"
   ]
  },
  {
   "cell_type": "code",
   "execution_count": null,
   "metadata": {},
   "outputs": [],
   "source": [
    "sentiment = pd.read_csv('sentiment.csv')"
   ]
  },
  {
   "cell_type": "code",
   "execution_count": null,
   "metadata": {},
   "outputs": [],
   "source": [
    "listings['id'] = listings['id'].astype(str)\n",
    "sentiment['listing_id'] = sentiment['listing_id'].astype(str)\n",
    "\n",
    "# Merge the datasets on the corresponding ID columns\n",
    "merged_data = pd.merge(listings, sentiment, left_on='id', right_on='listing_id', how='left')\n",
    "\n",
    "# Drop the duplicate 'listing_id' column if it exists\n",
    "merged_data = merged_data.drop(columns=['listing_id'])\n",
    "\n",
    "merged_data"
   ]
  },
  {
   "cell_type": "code",
   "execution_count": null,
   "metadata": {},
   "outputs": [],
   "source": [
    "# Select numeric columns for scaling\n",
    "numeric_columns = merged_data.select_dtypes(include=['float64', 'int64']).columns\n",
    "\n",
    "# Select only numeric data\n",
    "numeric_data = merged_data[numeric_columns]"
   ]
  },
  {
   "cell_type": "markdown",
   "metadata": {},
   "source": [
    "Missing values handling through Regression Imputation"
   ]
  },
  {
   "cell_type": "code",
   "execution_count": null,
   "metadata": {},
   "outputs": [],
   "source": [
    "from sklearn.linear_model import LinearRegression\n",
    "from sklearn.impute import SimpleImputer\n",
    "\n",
    "# Function to fill missing values using linear regression\n",
    "def fill_missing_values(df):\n",
    "    df_filled = df.copy()\n",
    "    \n",
    "    for column in df.columns:\n",
    "        if df[column].isnull().sum() > 0:\n",
    "\n",
    "            # Separate the data into columns with and without missing values\n",
    "            df_not_null = df_filled[df_filled[column].notnull()]\n",
    "            df_null = df_filled[df_filled[column].isnull()]\n",
    "            \n",
    "            if df_not_null.empty or df_null.empty:\n",
    "                # Skip column if there are no missing values\n",
    "                continue\n",
    "            \n",
    "            # Define the model\n",
    "            model = LinearRegression()\n",
    "            \n",
    "            # Ensure that X_train and X_test have no missing values\n",
    "            X_train = df_not_null.drop(columns=[column])\n",
    "            y_train = df_not_null[column]\n",
    "            \n",
    "            # Check for any NaNs in the training data\n",
    "            if X_train.isnull().any().any():\n",
    "                # If training data for the column contains NaNs, imput missing values before training\n",
    "                imputer = SimpleImputer(strategy='mean')\n",
    "                X_train = imputer.fit_transform(X_train)\n",
    "            \n",
    "            X_test = df_null.drop(columns=[column])\n",
    "            \n",
    "            if X_test.isnull().any().any():\n",
    "                # If test data for the column contains NaNs, imput missing values before prediction\n",
    "                X_test = imputer.transform(X_test)\n",
    "            \n",
    "            # Train the model\n",
    "            model.fit(X_train, y_train)\n",
    "            \n",
    "            # Predict the missing values\n",
    "            predicted_values = model.predict(X_test)\n",
    "            \n",
    "            # Assign the predicted values to the original dataframe\n",
    "            df_filled.loc[df_filled[column].isnull(), column] = predicted_values\n",
    "    \n",
    "    return df_filled\n",
    "\n",
    "\n",
    "# Apply the function to fill missing values in the numeric data\n",
    "numeric_data_filled = fill_missing_values(numeric_data)"
   ]
  },
  {
   "cell_type": "code",
   "execution_count": null,
   "metadata": {},
   "outputs": [],
   "source": [
    "numeric_data_filled"
   ]
  },
  {
   "cell_type": "code",
   "execution_count": null,
   "metadata": {},
   "outputs": [],
   "source": [
    "from sklearn.preprocessing import StandardScaler\n",
    "\n",
    "# Scale the numeric data\n",
    "scaler = StandardScaler()\n",
    "numeric_data_scaled = scaler.fit_transform(numeric_data_filled)\n",
    "\n",
    "# Convert the scaled data back to a DataFrame\n",
    "numeric_data_scaled_df = pd.DataFrame(numeric_data_scaled, columns=numeric_columns)\n",
    "\n",
    "numeric_data_scaled_df"
   ]
  },
  {
   "cell_type": "markdown",
   "metadata": {},
   "source": [
    "Feature Selection with PCA"
   ]
  },
  {
   "cell_type": "code",
   "execution_count": null,
   "metadata": {},
   "outputs": [],
   "source": [
    "#from sklearn.decomposition import PCA\n",
    "\n",
    "# Apply PCA\n",
    "#pca = PCA(n_components=0.95)\n",
    "#numeric_data_reduced = pca.fit_transform(numeric_data_scaled_df)\n",
    "\n",
    "# Convert PCA result back to DataFrame\n",
    "#numeric_data_reduced_df = pd.DataFrame(numeric_data_reduced)"
   ]
  },
  {
   "cell_type": "code",
   "execution_count": null,
   "metadata": {},
   "outputs": [],
   "source": [
    "#numeric_data_reduced_df"
   ]
  },
  {
   "cell_type": "code",
   "execution_count": null,
   "metadata": {},
   "outputs": [],
   "source": [
    "# Combine scaled numeric data with non-numeric data\n",
    "non_numeric_data = merged_data.drop(columns=numeric_columns)\n",
    "listings = pd.concat([non_numeric_data.reset_index(drop=True), numeric_data_scaled_df], axis=1)\n",
    "\n",
    "listings = listings.drop(columns='id')\n",
    "\n",
    "listings"
   ]
  },
  {
   "cell_type": "code",
   "execution_count": null,
   "metadata": {},
   "outputs": [],
   "source": [
    "listings.to_csv('final_dataset.csv', index=False)"
   ]
  }
 ],
 "metadata": {
  "kernelspec": {
   "display_name": "Python 3",
   "language": "python",
   "name": "python3"
  },
  "language_info": {
   "codemirror_mode": {
    "name": "ipython",
    "version": 3
   },
   "file_extension": ".py",
   "mimetype": "text/x-python",
   "name": "python",
   "nbconvert_exporter": "python",
   "pygments_lexer": "ipython3",
   "version": "3.11.5"
  }
 },
 "nbformat": 4,
 "nbformat_minor": 2
}
